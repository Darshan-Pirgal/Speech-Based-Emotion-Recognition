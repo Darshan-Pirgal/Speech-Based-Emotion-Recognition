{
 "cells": [
  {
   "cell_type": "code",
   "execution_count": 44,
   "metadata": {},
   "outputs": [],
   "source": [
    "import numpy as np # linear algebra  \n",
    "import pandas as pd # data processing, CSV file I/O (e.g. pd.read_csv)\n",
    "import os # to use operating system dependent functionality\n",
    "#run following commands to install librosa module for anaconda for first time\n",
    "#conda install -c numba numba\n",
    "#conda install -c conda-forge librosa\n",
    "import librosa # to extract speech features\n",
    "import librosa.display #to display audio as wave plot, spectrogram, or colormap\n",
    "import wave # read and write WAV files\n",
    "#run following commands to install soundfile module for anaconda for first time\n",
    "#conda install -c conda-forge pysoundfile\n",
    "import soundfile\n",
    "import matplotlib.pyplot as plt # to generate the visualizations\n",
    "import random # to shuffle the train and test data\n",
    "import glob\n",
    "# MLP Classifier\n",
    "from sklearn.model_selection import train_test_split\n",
    "from sklearn.neural_network import MLPClassifier\n",
    "from sklearn.metrics import accuracy_score\n",
    "from sklearn.metrics import classification_report #classification report\n",
    "from sklearn.metrics import confusion_matrix #confusion matrix\n",
    "from sklearn.model_selection import cross_val_score\n",
    "from sklearn.externals import joblib"
   ]
  },
  {
   "cell_type": "code",
   "execution_count": 2,
   "metadata": {},
   "outputs": [],
   "source": [
    "f_x=open('x.npy','rb')\n",
    "x=np.load(f_x)\n",
    "f_y=open('y.npy','rb')\n",
    "y=np.load(f_y)"
   ]
  },
  {
   "cell_type": "code",
   "execution_count": 4,
   "metadata": {},
   "outputs": [
    {
     "data": {
      "text/plain": [
       "((4240, 52), (4240, 1))"
      ]
     },
     "execution_count": 4,
     "metadata": {},
     "output_type": "execute_result"
    }
   ],
   "source": [
    "x = pd.DataFrame(x)\n",
    "y = pd.DataFrame(y)\n",
    "x.shape, y.shape"
   ]
  },
  {
   "cell_type": "code",
   "execution_count": 5,
   "metadata": {},
   "outputs": [],
   "source": [
    "#Renaming label column to emotion\n",
    "y=y.rename(columns= {0: 'emotion'})"
   ]
  },
  {
   "cell_type": "code",
   "execution_count": 7,
   "metadata": {},
   "outputs": [],
   "source": [
    "#Concatenating attributes and labeling into a single dataframe\n",
    "data = pd.concat([x, y], axis =1)"
   ]
  },
  {
   "cell_type": "code",
   "execution_count": 8,
   "metadata": {},
   "outputs": [
    {
     "data": {
      "text/html": [
       "<div>\n",
       "<style scoped>\n",
       "    .dataframe tbody tr th:only-of-type {\n",
       "        vertical-align: middle;\n",
       "    }\n",
       "\n",
       "    .dataframe tbody tr th {\n",
       "        vertical-align: top;\n",
       "    }\n",
       "\n",
       "    .dataframe thead th {\n",
       "        text-align: right;\n",
       "    }\n",
       "</style>\n",
       "<table border=\"1\" class=\"dataframe\">\n",
       "  <thead>\n",
       "    <tr style=\"text-align: right;\">\n",
       "      <th></th>\n",
       "      <th>0</th>\n",
       "      <th>1</th>\n",
       "      <th>2</th>\n",
       "      <th>3</th>\n",
       "      <th>4</th>\n",
       "      <th>5</th>\n",
       "      <th>6</th>\n",
       "      <th>7</th>\n",
       "      <th>8</th>\n",
       "      <th>9</th>\n",
       "      <th>...</th>\n",
       "      <th>43</th>\n",
       "      <th>44</th>\n",
       "      <th>45</th>\n",
       "      <th>46</th>\n",
       "      <th>47</th>\n",
       "      <th>48</th>\n",
       "      <th>49</th>\n",
       "      <th>50</th>\n",
       "      <th>51</th>\n",
       "      <th>emotion</th>\n",
       "    </tr>\n",
       "  </thead>\n",
       "  <tbody>\n",
       "    <tr>\n",
       "      <th>0</th>\n",
       "      <td>-652.009607</td>\n",
       "      <td>54.706461</td>\n",
       "      <td>-4.938512</td>\n",
       "      <td>16.362993</td>\n",
       "      <td>3.054569</td>\n",
       "      <td>6.184312</td>\n",
       "      <td>-4.742143</td>\n",
       "      <td>-1.612205</td>\n",
       "      <td>-8.993019</td>\n",
       "      <td>-1.785451</td>\n",
       "      <td>...</td>\n",
       "      <td>0.671931</td>\n",
       "      <td>0.605322</td>\n",
       "      <td>0.566950</td>\n",
       "      <td>0.580572</td>\n",
       "      <td>0.614031</td>\n",
       "      <td>0.576976</td>\n",
       "      <td>0.568460</td>\n",
       "      <td>0.600136</td>\n",
       "      <td>0.684462</td>\n",
       "      <td>sad</td>\n",
       "    </tr>\n",
       "    <tr>\n",
       "      <th>1</th>\n",
       "      <td>-430.481749</td>\n",
       "      <td>69.578733</td>\n",
       "      <td>12.447907</td>\n",
       "      <td>16.808655</td>\n",
       "      <td>-9.058572</td>\n",
       "      <td>3.456362</td>\n",
       "      <td>-15.539161</td>\n",
       "      <td>5.075701</td>\n",
       "      <td>-29.998813</td>\n",
       "      <td>-1.071275</td>\n",
       "      <td>...</td>\n",
       "      <td>0.483472</td>\n",
       "      <td>0.553652</td>\n",
       "      <td>0.594047</td>\n",
       "      <td>0.511809</td>\n",
       "      <td>0.493231</td>\n",
       "      <td>0.506830</td>\n",
       "      <td>0.488290</td>\n",
       "      <td>0.492358</td>\n",
       "      <td>0.523566</td>\n",
       "      <td>happy</td>\n",
       "    </tr>\n",
       "    <tr>\n",
       "      <th>2</th>\n",
       "      <td>-629.639319</td>\n",
       "      <td>52.968282</td>\n",
       "      <td>-14.413872</td>\n",
       "      <td>5.967196</td>\n",
       "      <td>-2.175347</td>\n",
       "      <td>-2.432873</td>\n",
       "      <td>-14.449766</td>\n",
       "      <td>-5.495165</td>\n",
       "      <td>-17.531713</td>\n",
       "      <td>2.062178</td>\n",
       "      <td>...</td>\n",
       "      <td>0.526212</td>\n",
       "      <td>0.573157</td>\n",
       "      <td>0.623194</td>\n",
       "      <td>0.727561</td>\n",
       "      <td>0.751023</td>\n",
       "      <td>0.690027</td>\n",
       "      <td>0.706692</td>\n",
       "      <td>0.678435</td>\n",
       "      <td>0.595404</td>\n",
       "      <td>sad</td>\n",
       "    </tr>\n",
       "    <tr>\n",
       "      <th>3</th>\n",
       "      <td>-430.845105</td>\n",
       "      <td>64.977779</td>\n",
       "      <td>4.010590</td>\n",
       "      <td>7.919860</td>\n",
       "      <td>-11.385339</td>\n",
       "      <td>0.521961</td>\n",
       "      <td>-20.931909</td>\n",
       "      <td>7.663227</td>\n",
       "      <td>-25.632211</td>\n",
       "      <td>3.032570</td>\n",
       "      <td>...</td>\n",
       "      <td>0.322117</td>\n",
       "      <td>0.252560</td>\n",
       "      <td>0.262713</td>\n",
       "      <td>0.234488</td>\n",
       "      <td>0.228346</td>\n",
       "      <td>0.341706</td>\n",
       "      <td>0.333625</td>\n",
       "      <td>0.290902</td>\n",
       "      <td>0.324967</td>\n",
       "      <td>fearful</td>\n",
       "    </tr>\n",
       "    <tr>\n",
       "      <th>4</th>\n",
       "      <td>-377.757174</td>\n",
       "      <td>49.372392</td>\n",
       "      <td>-1.084878</td>\n",
       "      <td>18.241642</td>\n",
       "      <td>-12.869235</td>\n",
       "      <td>-1.941183</td>\n",
       "      <td>-12.095457</td>\n",
       "      <td>-7.654756</td>\n",
       "      <td>-23.261087</td>\n",
       "      <td>7.264334</td>\n",
       "      <td>...</td>\n",
       "      <td>0.360560</td>\n",
       "      <td>0.378872</td>\n",
       "      <td>0.405729</td>\n",
       "      <td>0.461528</td>\n",
       "      <td>0.578736</td>\n",
       "      <td>0.638402</td>\n",
       "      <td>0.629992</td>\n",
       "      <td>0.531582</td>\n",
       "      <td>0.485844</td>\n",
       "      <td>surprised</td>\n",
       "    </tr>\n",
       "  </tbody>\n",
       "</table>\n",
       "<p>5 rows × 53 columns</p>\n",
       "</div>"
      ],
      "text/plain": [
       "            0          1          2          3          4         5  \\\n",
       "0 -652.009607  54.706461  -4.938512  16.362993   3.054569  6.184312   \n",
       "1 -430.481749  69.578733  12.447907  16.808655  -9.058572  3.456362   \n",
       "2 -629.639319  52.968282 -14.413872   5.967196  -2.175347 -2.432873   \n",
       "3 -430.845105  64.977779   4.010590   7.919860 -11.385339  0.521961   \n",
       "4 -377.757174  49.372392  -1.084878  18.241642 -12.869235 -1.941183   \n",
       "\n",
       "           6         7          8         9  ...        43        44  \\\n",
       "0  -4.742143 -1.612205  -8.993019 -1.785451  ...  0.671931  0.605322   \n",
       "1 -15.539161  5.075701 -29.998813 -1.071275  ...  0.483472  0.553652   \n",
       "2 -14.449766 -5.495165 -17.531713  2.062178  ...  0.526212  0.573157   \n",
       "3 -20.931909  7.663227 -25.632211  3.032570  ...  0.322117  0.252560   \n",
       "4 -12.095457 -7.654756 -23.261087  7.264334  ...  0.360560  0.378872   \n",
       "\n",
       "         45        46        47        48        49        50        51  \\\n",
       "0  0.566950  0.580572  0.614031  0.576976  0.568460  0.600136  0.684462   \n",
       "1  0.594047  0.511809  0.493231  0.506830  0.488290  0.492358  0.523566   \n",
       "2  0.623194  0.727561  0.751023  0.690027  0.706692  0.678435  0.595404   \n",
       "3  0.262713  0.234488  0.228346  0.341706  0.333625  0.290902  0.324967   \n",
       "4  0.405729  0.461528  0.578736  0.638402  0.629992  0.531582  0.485844   \n",
       "\n",
       "     emotion  \n",
       "0        sad  \n",
       "1      happy  \n",
       "2        sad  \n",
       "3    fearful  \n",
       "4  surprised  \n",
       "\n",
       "[5 rows x 53 columns]"
      ]
     },
     "execution_count": 8,
     "metadata": {},
     "output_type": "execute_result"
    }
   ],
   "source": [
    "data.head()"
   ]
  },
  {
   "cell_type": "code",
   "execution_count": 9,
   "metadata": {},
   "outputs": [],
   "source": [
    "#Reindexing to shuffle the data at randome\n",
    "data = data.reindex(np.random.permutation(data.index))"
   ]
  },
  {
   "cell_type": "code",
   "execution_count": 10,
   "metadata": {},
   "outputs": [],
   "source": [
    "#Storing shuffled ravdess and tess data to avoid loading again\n",
    "data.to_csv(\"RAVTESS_MFCC_Observed.csv\")"
   ]
  },
  {
   "cell_type": "code",
   "execution_count": 11,
   "metadata": {},
   "outputs": [],
   "source": [
    "#Reading the ravdess and tess csv file\n",
    "data=pd.read_csv(\"RAVTESS_MFCC_Observed.csv\")"
   ]
  },
  {
   "cell_type": "code",
   "execution_count": 12,
   "metadata": {},
   "outputs": [
    {
     "data": {
      "text/plain": [
       "Index(['Unnamed: 0', '0', '1', '2', '3', '4', '5', '6', '7', '8', '9', '10',\n",
       "       '11', '12', '13', '14', '15', '16', '17', '18', '19', '20', '21', '22',\n",
       "       '23', '24', '25', '26', '27', '28', '29', '30', '31', '32', '33', '34',\n",
       "       '35', '36', '37', '38', '39', '40', '41', '42', '43', '44', '45', '46',\n",
       "       '47', '48', '49', '50', '51', 'emotion'],\n",
       "      dtype='object')"
      ]
     },
     "execution_count": 12,
     "metadata": {},
     "output_type": "execute_result"
    }
   ],
   "source": [
    "#printing all the columns\n",
    "data.columns"
   ]
  },
  {
   "cell_type": "code",
   "execution_count": 13,
   "metadata": {},
   "outputs": [],
   "source": [
    "#Dropping the unnamed column to remove shuffled index\n",
    "data = data.drop('Unnamed: 0',axis=1)"
   ]
  },
  {
   "cell_type": "code",
   "execution_count": 14,
   "metadata": {},
   "outputs": [],
   "source": [
    "#Seperating features and targets outputs\n",
    "x = data.drop('emotion', axis = 1).values\n",
    "y = data['emotion'].values"
   ]
  },
  {
   "cell_type": "code",
   "execution_count": 15,
   "metadata": {},
   "outputs": [],
   "source": [
    "#Implementing SVM with Scikit-Learn\n",
    "import pandas as pd\n",
    "import numpy as np\n",
    "import matplotlib.pyplot as plt\n",
    "%matplotlib inline"
   ]
  },
  {
   "cell_type": "code",
   "execution_count": 17,
   "metadata": {},
   "outputs": [
    {
     "data": {
      "text/plain": [
       "((4240, 52), (4240,))"
      ]
     },
     "execution_count": 17,
     "metadata": {},
     "output_type": "execute_result"
    }
   ],
   "source": [
    "#X variable contains attributes while y variable contains corresponding labels\n",
    "x.shape, y.shape"
   ]
  },
  {
   "cell_type": "code",
   "execution_count": 18,
   "metadata": {},
   "outputs": [
    {
     "data": {
      "text/plain": [
       "array(['angry', 'calm', 'disgust', 'fearful', 'happy', 'neutral', 'sad',\n",
       "       'surprised'], dtype=object)"
      ]
     },
     "execution_count": 18,
     "metadata": {},
     "output_type": "execute_result"
    }
   ],
   "source": [
    "np.unique(y)"
   ]
  },
  {
   "cell_type": "code",
   "execution_count": 20,
   "metadata": {},
   "outputs": [],
   "source": [
    "X_train, X_test, y_train, y_test = train_test_split(x, y, test_size = 0.20)"
   ]
  },
  {
   "cell_type": "code",
   "execution_count": 21,
   "metadata": {},
   "outputs": [],
   "source": [
    "from sklearn.svm import SVC\n",
    "\n",
    "svclassifier = SVC(kernel = 'linear')"
   ]
  },
  {
   "cell_type": "code",
   "execution_count": 22,
   "metadata": {},
   "outputs": [
    {
     "name": "stdout",
     "output_type": "stream",
     "text": [
      "Trained model in 97.39431595802307 ms \n"
     ]
    }
   ],
   "source": [
    "#The fit method is used to train the algorithm\n",
    "import time\n",
    "\n",
    "starting_time = time.time()\n",
    "svclassifier.fit(X_train, y_train)\n",
    "print(\"Trained model in %s sec \" % str(time.time() - starting_time))"
   ]
  },
  {
   "cell_type": "code",
   "execution_count": 23,
   "metadata": {},
   "outputs": [],
   "source": [
    "#to make predictions predict class is used\n",
    "y_pred = svclassifier.predict(X_test)"
   ]
  },
  {
   "cell_type": "code",
   "execution_count": 24,
   "metadata": {},
   "outputs": [
    {
     "name": "stdout",
     "output_type": "stream",
     "text": [
      "              precision    recall  f1-score   support\n",
      "\n",
      "       angry       0.77      0.88      0.82       114\n",
      "        calm       0.54      0.65      0.59        49\n",
      "     disgust       0.70      0.81      0.75       120\n",
      "     fearful       0.79      0.81      0.80        98\n",
      "       happy       0.76      0.66      0.71       113\n",
      "     neutral       0.88      0.87      0.87       100\n",
      "         sad       0.70      0.69      0.69       129\n",
      "   surprised       0.82      0.62      0.70       125\n",
      "\n",
      "    accuracy                           0.75       848\n",
      "   macro avg       0.74      0.75      0.74       848\n",
      "weighted avg       0.76      0.75      0.75       848\n",
      "\n",
      "----accuracy score 75.0 ----\n"
     ]
    },
    {
     "data": {
      "image/png": "[encoded data removed]",
      "text/plain": [
       "<Figure size 432x288 with 2 Axes>"
      ]
     },
     "metadata": {
      "needs_background": "light"
     },
     "output_type": "display_data"
    }
   ],
   "source": [
    "#Classification report, Confusion matrix and accuracy score is printed\n",
    "from sklearn.metrics import classification_report, confusion_matrix,accuracy_score\n",
    "import seaborn as sn\n",
    "\n",
    "print(classification_report(y_test,y_pred))\n",
    "\n",
    "acc = float(accuracy_score(y_test,y_pred))*100\n",
    "print(\"----accuracy score %s ----\" % acc)\n",
    "\n",
    "cm = confusion_matrix(y_test,y_pred)\n",
    "df_cm = pd.DataFrame(cm)\n",
    "sn.heatmap(df_cm, annot=True, fmt='')\n",
    "plt.show()"
   ]
  },
  {
   "cell_type": "code",
   "execution_count": 25,
   "metadata": {},
   "outputs": [
    {
     "name": "stdout",
     "output_type": "stream",
     "text": [
      "----train accuracy score 83.25471698113208 ----\n",
      "----test accuracy score 75.0 ----\n"
     ]
    }
   ],
   "source": [
    "#Comparing training and test accuracy to check for overfitting of data\n",
    "train_acc = float(svclassifier.score(X_train, y_train)*100)\n",
    "print(\"----train accuracy score %s ----\" % train_acc)\n",
    "\n",
    "test_acc = float(svclassifier.score(X_test, y_test)*100)\n",
    "print(\"----test accuracy score %s ----\" % test_acc)"
   ]
  },
  {
   "cell_type": "code",
   "execution_count": 27,
   "metadata": {},
   "outputs": [
    {
     "name": "stdout",
     "output_type": "stream",
     "text": [
      "[0.76670574 0.75586854 0.77633136 0.74201183 0.74792899]\n"
     ]
    }
   ],
   "source": [
    "#5-fold Cross-validation of SVC classifier\n",
    "from sklearn.model_selection import cross_val_score\n",
    "\n",
    "# no. of folds cv = 5\n",
    "cv_results = cross_val_score(svclassifier, x, y, cv = 5)\n",
    "print(cv_results)\n",
    "print(\"Avg accuracy:\",cv_results.mean()*100)"
   ]
  },
  {
   "cell_type": "code",
   "execution_count": 30,
   "metadata": {},
   "outputs": [
    {
     "name": "stdout",
     "output_type": "stream",
     "text": [
      "Accuracy with Scaling: 0.8325471698113207\n",
      "Accuracy without Scaling: 0.7794811320754716\n"
     ]
    }
   ],
   "source": [
    "#Normalize the training data and afterwards scaling the test data with the mean and standard deviation of the test data\n",
    "from sklearn.model_selection import train_test_split\n",
    "from sklearn.preprocessing import StandardScaler\n",
    "from sklearn.pipeline import Pipeline\n",
    "from sklearn.svm import SVC\n",
    "\n",
    "\n",
    "#splitting dataset into train/ test sets\n",
    "x_train, x_test, y_train, y_test = train_test_split(x, y, test_size = 0.20)\n",
    "\n",
    "# Setup the pipeline steps: steps\n",
    "steps = [('scaler', StandardScaler()),\n",
    "        ('SVM', SVC())]\n",
    "        \n",
    "# Create the pipeline: pipeline\n",
    "pipeline = Pipeline(steps)\n",
    "\n",
    "# Fit the pipeline to the training set: svc_scaled\n",
    "svc_scaled = pipeline.fit(x_train, y_train)\n",
    "\n",
    "# Instantiate and fit a classifier to the unscaled data\n",
    "svc_unscaled = SVC(kernel = 'linear').fit(x_train, y_train)\n",
    "\n",
    "# Compute and print metrics\n",
    "print('Accuracy with Scaling: {}'.format(svc_scaled.score(x_test, y_test)))\n",
    "print('Accuracy without Scaling: {}'.format(svc_unscaled.score(x_test, y_test)))"
   ]
  },
  {
   "cell_type": "code",
   "execution_count": 38,
   "metadata": {},
   "outputs": [
    {
     "name": "stdout",
     "output_type": "stream",
     "text": [
      "----train accuracy score 86.64504716981132 ----\n",
      "----test accuracy score 83.25471698113208 ----\n"
     ]
    }
   ],
   "source": [
    "#check for overfitiing or underfitting \n",
    "train_acc = float(svc_scaled.score(x_train, y_train)*100)\n",
    "print(\"----train accuracy score %s ----\" % train_acc)\n",
    "\n",
    "test_acc = float(svc_scaled.score(x_test, y_test)*100)\n",
    "print(\"----test accuracy score %s ----\" % test_acc)"
   ]
  },
  {
   "cell_type": "code",
   "execution_count": 32,
   "metadata": {},
   "outputs": [],
   "source": [
    "scaled_predictions = svc_scaled.predict(X_test)"
   ]
  },
  {
   "cell_type": "code",
   "execution_count": 33,
   "metadata": {},
   "outputs": [
    {
     "name": "stdout",
     "output_type": "stream",
     "text": [
      "              precision    recall  f1-score   support\n",
      "\n",
      "       angry       0.12      0.11      0.11       123\n",
      "        calm       0.07      0.14      0.09        43\n",
      "     disgust       0.12      0.14      0.13       112\n",
      "     fearful       0.09      0.07      0.08       115\n",
      "       happy       0.11      0.09      0.10       115\n",
      "     neutral       0.07      0.06      0.06       108\n",
      "         sad       0.10      0.11      0.11       108\n",
      "   surprised       0.12      0.12      0.12       124\n",
      "\n",
      "    accuracy                           0.10       848\n",
      "   macro avg       0.10      0.10      0.10       848\n",
      "weighted avg       0.10      0.10      0.10       848\n",
      "\n",
      "----accuracy score 10.141509433962264 ----\n"
     ]
    },
    {
     "data": {
      "image/png": "[encoded data removed]",
      "text/plain": [
       "<Figure size 432x288 with 2 Axes>"
      ]
     },
     "metadata": {
      "needs_background": "light"
     },
     "output_type": "display_data"
    }
   ],
   "source": [
    "#Classification reports and confusion matrix\n",
    "from sklearn.metrics import classification_report, confusion_matrix,accuracy_score\n",
    "import seaborn as sn\n",
    "\n",
    "print(classification_report(y_test,scaled_predictions))\n",
    "\n",
    "acc = float(accuracy_score(y_test,scaled_predictions))*100\n",
    "print(\"----accuracy score %s ----\" % acc)\n",
    "\n",
    "cm = confusion_matrix(y_test,scaled_predictions)\n",
    "df_cm = pd.DataFrame(cm)\n",
    "sn.heatmap(df_cm, annot=True, fmt='')\n",
    "plt.show()"
   ]
  },
  {
   "cell_type": "code",
   "execution_count": 35,
   "metadata": {},
   "outputs": [
    {
     "name": "stdout",
     "output_type": "stream",
     "text": [
      "[0.83704572 0.84507042 0.83431953 0.8035503  0.83313609]\n",
      "Avg accuracy: 83.06244121359467\n"
     ]
    }
   ],
   "source": [
    "#Cross validation score\n",
    "from sklearn.model_selection import cross_val_score\n",
    "\n",
    "# no. of folds cv = 5\n",
    "cv_results = cross_val_score(svc_scaled, x, y, cv = 5)\n",
    "print(cv_results)\n",
    "print(\"Avg accuracy:\",cv_results.mean()*100)"
   ]
  },
  {
   "cell_type": "code",
   "execution_count": 45,
   "metadata": {},
   "outputs": [
    {
     "name": "stdout",
     "output_type": "stream",
     "text": [
      "MODEL SAVED\n"
     ]
    }
   ],
   "source": [
    "joblib.dump(svclassifier, 'svm_model.pkl') \n",
    "print(\"MODEL SAVED\")"
   ]
  },
  {
   "cell_type": "code",
   "execution_count": null,
   "metadata": {},
   "outputs": [],
   "source": []
  }
 ],
 "metadata": {
  "kernelspec": {
   "display_name": "Python 3",
   "language": "python",
   "name": "python3"
  },
  "language_info": {
   "codemirror_mode": {
    "name": "ipython",
    "version": 3
   },
   "file_extension": ".py",
   "mimetype": "text/x-python",
   "name": "python",
   "nbconvert_exporter": "python",
   "pygments_lexer": "ipython3",
   "version": "3.8.5"
  }
 },
 "nbformat": 4,
 "nbformat_minor": 2
}

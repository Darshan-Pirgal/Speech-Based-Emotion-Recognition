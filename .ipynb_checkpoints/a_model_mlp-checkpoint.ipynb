{
 "cells": [
  {
   "cell_type": "code",
   "execution_count": 54,
   "metadata": {},
   "outputs": [],
   "source": [
    "import numpy as np # linear algebra  \n",
    "import pandas as pd # data processing, CSV file I/O (e.g. pd.read_csv)\n",
    "import os # to use operating system dependent functionality\n",
    "#run following commands to install librosa module for anaconda for first time\n",
    "#conda install -c numba numba\n",
    "#conda install -c conda-forge librosa\n",
    "import librosa # to extract speech features\n",
    "import librosa.display #to display audio as wave plot, spectrogram, or colormap\n",
    "import wave # read and write WAV files\n",
    "#run following commands to install soundfile module for anaconda for first time\n",
    "#conda install -c conda-forge pysoundfile\n",
    "import soundfile\n",
    "import matplotlib.pyplot as plt # to generate the visualizations\n",
    "import random # to shuffle the train and test data\n",
    "import glob\n",
    "# MLP Classifier\n",
    "from sklearn.model_selection import train_test_split\n",
    "from sklearn.neural_network import MLPClassifier\n",
    "from sklearn.metrics import accuracy_score\n",
    "from sklearn.metrics import classification_report #classification report\n",
    "from sklearn.metrics import confusion_matrix #confusion matrix\n",
    "from sklearn.model_selection import cross_val_score\n",
    "import pickle \n",
    "from sklearn.externals import joblib"
   ]
  },
  {
   "cell_type": "code",
   "execution_count": 53,
   "metadata": {},
   "outputs": [],
   "source": [
    "f_x=open('x.npy','rb')\n",
    "x=np.load(f_x)\n",
    "f_y=open('y.npy','rb')\n",
    "y=np.load(f_y)"
   ]
  },
  {
   "cell_type": "code",
   "execution_count": 4,
   "metadata": {},
   "outputs": [],
   "source": [
    "x_train, x_test, y_train, y_test = train_test_split(x,y, test_size=0.2, random_state=42)"
   ]
  },
  {
   "cell_type": "code",
   "execution_count": 41,
   "metadata": {},
   "outputs": [],
   "source": [
    "model_mlp=MLPClassifier(alpha=0.01,batch_size=100,epsilon=1e-08,hidden_layer_sizes=(180,180),learning_rate='adaptive',max_iter=400)"
   ]
  },
  {
   "cell_type": "code",
   "execution_count": 42,
   "metadata": {},
   "outputs": [
    {
     "data": {
      "text/plain": [
       "MLPClassifier(activation='relu', alpha=0.01, batch_size=100, beta_1=0.9,\n",
       "              beta_2=0.999, early_stopping=False, epsilon=1e-08,\n",
       "              hidden_layer_sizes=(180, 180), learning_rate='adaptive',\n",
       "              learning_rate_init=0.001, max_iter=400, momentum=0.9,\n",
       "              n_iter_no_change=10, nesterovs_momentum=True, power_t=0.5,\n",
       "              random_state=None, shuffle=True, solver='adam', tol=0.0001,\n",
       "              validation_fraction=0.1, verbose=False, warm_start=False)"
      ]
     },
     "execution_count": 42,
     "metadata": {},
     "output_type": "execute_result"
    }
   ],
   "source": [
    "model_mlp.fit(x_train,y_train)"
   ]
  },
  {
   "cell_type": "code",
   "execution_count": 43,
   "metadata": {},
   "outputs": [],
   "source": [
    "y_pred_test=model_mlp.predict(x_test)\n",
    "y_pred_train=model_mlp.predict(x_train)"
   ]
  },
  {
   "cell_type": "code",
   "execution_count": 44,
   "metadata": {},
   "outputs": [
    {
     "name": "stdout",
     "output_type": "stream",
     "text": [
      "Test Accuracy:88.33%\n",
      "Train Accuracy:98.35%\n"
     ]
    }
   ],
   "source": [
    "accuracy1=accuracy_score(y_true=y_test,y_pred=y_pred_test)\n",
    "accuracy2=accuracy_score(y_true=y_train,y_pred=y_pred_train)\n",
    "print(\"Test Accuracy:{:.2f}%\".format(accuracy1*100))\n",
    "print(\"Train Accuracy:{:.2f}%\".format(accuracy2*100))"
   ]
  },
  {
   "cell_type": "code",
   "execution_count": 49,
   "metadata": {},
   "outputs": [
    {
     "name": "stdout",
     "output_type": "stream",
     "text": [
      "[0.76979472 0.84728341 0.75221239 0.73372781 0.82814815]\n",
      "Avg accuracy: 78.62332952683929\n"
     ]
    }
   ],
   "source": [
    "cv_results = cross_val_score(model_mlp, x_train, y_train,scoring='accuracy', cv = 5)\n",
    "print(cv_results)\n",
    "print(\"Avg accuracy:\",cv_results.mean()*100)"
   ]
  },
  {
   "cell_type": "code",
   "execution_count": 45,
   "metadata": {},
   "outputs": [
    {
     "name": "stdout",
     "output_type": "stream",
     "text": [
      "              precision    recall  f1-score   support\n",
      "\n",
      "       angry       0.91      0.88      0.90       113\n",
      "        calm       0.64      0.82      0.72        34\n",
      "     disgust       0.92      0.90      0.91       126\n",
      "     fearful       0.88      0.92      0.90       130\n",
      "       happy       0.86      0.92      0.89        95\n",
      "     neutral       0.94      0.88      0.91       106\n",
      "         sad       0.94      0.80      0.86       115\n",
      "   surprised       0.88      0.92      0.90       129\n",
      "\n",
      "    accuracy                           0.89       848\n",
      "   macro avg       0.87      0.88      0.87       848\n",
      "weighted avg       0.89      0.89      0.89       848\n",
      "\n"
     ]
    }
   ],
   "source": [
    "#classification report\n",
    "print(classification_report(y_test,y_pred1))"
   ]
  },
  {
   "cell_type": "code",
   "execution_count": 46,
   "metadata": {},
   "outputs": [
    {
     "name": "stdout",
     "output_type": "stream",
     "text": [
      "[[100   0   4   2   2   0   0   5]\n",
      " [  0  28   1   1   1   2   0   1]\n",
      " [  4   0 114   2   1   0   1   4]\n",
      " [  2   1   2 120   2   1   1   1]\n",
      " [  1   0   0   4  87   0   2   1]\n",
      " [  1   9   0   0   0  93   2   1]\n",
      " [  1   4   1   5   5   3  92   4]\n",
      " [  1   2   2   2   3   0   0 119]]\n"
     ]
    }
   ],
   "source": [
    "#confusion matrix\n",
    "cm = confusion_matrix(y_test,y_pred1)\n",
    "print(cm)"
   ]
  },
  {
   "cell_type": "code",
   "execution_count": 56,
   "metadata": {},
   "outputs": [
    {
     "name": "stdout",
     "output_type": "stream",
     "text": [
      "MODEL SAVED\n"
     ]
    }
   ],
   "source": [
    "joblib.dump(model_mlp, 'mlp_model.pkl') \n",
    "print(\"MODEL SAVED\")"
   ]
  },
  {
   "cell_type": "code",
   "execution_count": null,
   "metadata": {},
   "outputs": [],
   "source": []
  }
 ],
 "metadata": {
  "kernelspec": {
   "display_name": "Python 3",
   "language": "python",
   "name": "python3"
  },
  "language_info": {
   "codemirror_mode": {
    "name": "ipython",
    "version": 3
   },
   "file_extension": ".py",
   "mimetype": "text/x-python",
   "name": "python",
   "nbconvert_exporter": "python",
   "pygments_lexer": "ipython3",
   "version": "3.8.5"
  }
 },
 "nbformat": 4,
 "nbformat_minor": 2
}
